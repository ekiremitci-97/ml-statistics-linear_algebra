{
 "cells": [
  {
   "cell_type": "markdown",
   "metadata": {},
   "source": [
    "# Machine Learning\n",
    "\n",
    "**Steps of Machine Learning**\n",
    "\n",
    "1. Problem definition\n",
    "2. Data collection\n",
    "3. Evaluation (What defines success?)\n",
    "4. Features (What features can we use?)\n",
    "5. Modelling (What model to use?)\n",
    "6. Experimentation (How can we improve?)"
   ]
  },
  {
   "cell_type": "markdown",
   "metadata": {},
   "source": [
    "**Overfitting and Underfitting Definitions**\n",
    "\n",
    "- **Underfitting**: Poor performance on training data means the model hasn't learned properly and is underfitting. Try a different model, improve the existing one through hyperparameter or collect more data.\n",
    "\n",
    "- **Overfitting**: Great performance on the training data but poor performance on test data means your model doesn't generalize well. Your model may be overfitting the training data. Try using a simpler model or making sure the test data is of the same style your model is training on."
   ]
  },
  {
   "cell_type": "markdown",
   "metadata": {},
   "source": []
  }
 ],
 "metadata": {
  "language_info": {
   "name": "python"
  }
 },
 "nbformat": 4,
 "nbformat_minor": 2
}
